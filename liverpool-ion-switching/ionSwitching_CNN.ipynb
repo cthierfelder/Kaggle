{
 "cells": [
  {
   "cell_type": "code",
   "execution_count": 2,
   "metadata": {},
   "outputs": [
    {
     "name": "stderr",
     "output_type": "stream",
     "text": [
      "Using TensorFlow backend.\n"
     ]
    }
   ],
   "source": [
    "import pandas as pd\n",
    "import numpy as np\n",
    "import json\n",
    "import os\n",
    "import gc\n",
    "from sklearn.metrics import confusion_matrix\n",
    "from sklearn.metrics import f1_score\n",
    "from sklearn.model_selection import train_test_split\n",
    "from sklearn.metrics import f1_score\n",
    "\n",
    "#Dependencies\n",
    "import keras\n",
    "from keras.models import Sequential\n",
    "from keras.layers import Dense, Dropout, Flatten\n",
    "from keras.layers import Conv2D, MaxPooling2D\n",
    "\n",
    "import seaborn as sns\n",
    "import matplotlib.pyplot as plt\n",
    "%matplotlib inline"
   ]
  },
  {
   "cell_type": "markdown",
   "metadata": {},
   "source": [
    "# Idea of average performace on this challenge"
   ]
  },
  {
   "cell_type": "code",
   "execution_count": 3,
   "metadata": {},
   "outputs": [
    {
     "data": {
      "image/png": "[encoded data removed]",
      "text/plain": [
       "<Figure size 432x288 with 1 Axes>"
      ]
     },
     "metadata": {
      "needs_background": "light"
     },
     "output_type": "display_data"
    }
   ],
   "source": [
    "df = pd.read_csv('liverpool-ion-switching-publicleaderboard.csv')\n",
    "df[df['TeamName']=='cthierfelder']\n",
    "score = df['Score']\n",
    "plt.hist(score,bins=np.linspace(np.min(score),np.max(score),1000));\n",
    "plt.yscale('log')\n",
    "for s in df[df['TeamName']=='cthierfelder']['Score'].to_numpy():\n",
    "    pass\n",
    "    plt.plot([s,s],[0,500],color='red')\n",
    "    plt.xlim(0.05,0.95)"
   ]
  },
  {
   "cell_type": "code",
   "execution_count": 41,
   "metadata": {},
   "outputs": [
    {
     "data": {
      "text/html": [
       "<div>\n",
       "<style scoped>\n",
       "    .dataframe tbody tr th:only-of-type {\n",
       "        vertical-align: middle;\n",
       "    }\n",
       "\n",
       "    .dataframe tbody tr th {\n",
       "        vertical-align: top;\n",
       "    }\n",
       "\n",
       "    .dataframe thead th {\n",
       "        text-align: right;\n",
       "    }\n",
       "</style>\n",
       "<table border=\"1\" class=\"dataframe\">\n",
       "  <thead>\n",
       "    <tr style=\"text-align: right;\">\n",
       "      <th></th>\n",
       "      <th>TeamId</th>\n",
       "      <th>TeamName</th>\n",
       "      <th>SubmissionDate</th>\n",
       "      <th>Score</th>\n",
       "    </tr>\n",
       "  </thead>\n",
       "  <tbody>\n",
       "    <tr>\n",
       "      <td>0</td>\n",
       "      <td>4458093</td>\n",
       "      <td>Adrian Brodzik</td>\n",
       "      <td>2020-02-26 22:37:11</td>\n",
       "      <td>0.047</td>\n",
       "    </tr>\n",
       "    <tr>\n",
       "      <td>1</td>\n",
       "      <td>4457240</td>\n",
       "      <td>farmersrice</td>\n",
       "      <td>2020-02-26 22:39:26</td>\n",
       "      <td>0.853</td>\n",
       "    </tr>\n",
       "    <tr>\n",
       "      <td>2</td>\n",
       "      <td>4457945</td>\n",
       "      <td>Youri Matiounine</td>\n",
       "      <td>2020-02-26 22:56:59</td>\n",
       "      <td>0.152</td>\n",
       "    </tr>\n",
       "    <tr>\n",
       "      <td>3</td>\n",
       "      <td>4458093</td>\n",
       "      <td>Adrian Brodzik</td>\n",
       "      <td>2020-02-26 23:13:36</td>\n",
       "      <td>0.064</td>\n",
       "    </tr>\n",
       "    <tr>\n",
       "      <td>4</td>\n",
       "      <td>4458373</td>\n",
       "      <td>Hasni Med Bilel</td>\n",
       "      <td>2020-02-26 23:21:34</td>\n",
       "      <td>0.905</td>\n",
       "    </tr>\n",
       "    <tr>\n",
       "      <td>...</td>\n",
       "      <td>...</td>\n",
       "      <td>...</td>\n",
       "      <td>...</td>\n",
       "      <td>...</td>\n",
       "    </tr>\n",
       "    <tr>\n",
       "      <td>5347</td>\n",
       "      <td>4462028</td>\n",
       "      <td>DataKiller</td>\n",
       "      <td>2020-03-30 01:20:10</td>\n",
       "      <td>0.940</td>\n",
       "    </tr>\n",
       "    <tr>\n",
       "      <td>5348</td>\n",
       "      <td>4590753</td>\n",
       "      <td>cthierfelder</td>\n",
       "      <td>2020-03-30 01:20:29</td>\n",
       "      <td>0.919</td>\n",
       "    </tr>\n",
       "    <tr>\n",
       "      <td>5349</td>\n",
       "      <td>4525822</td>\n",
       "      <td>Office Club</td>\n",
       "      <td>2020-03-30 01:25:39</td>\n",
       "      <td>0.939</td>\n",
       "    </tr>\n",
       "    <tr>\n",
       "      <td>5350</td>\n",
       "      <td>4597156</td>\n",
       "      <td>FISH</td>\n",
       "      <td>2020-03-30 01:49:59</td>\n",
       "      <td>0.939</td>\n",
       "    </tr>\n",
       "    <tr>\n",
       "      <td>5351</td>\n",
       "      <td>4465100</td>\n",
       "      <td>Just4Fun</td>\n",
       "      <td>2020-03-30 02:11:05</td>\n",
       "      <td>0.943</td>\n",
       "    </tr>\n",
       "  </tbody>\n",
       "</table>\n",
       "<p>5352 rows × 4 columns</p>\n",
       "</div>"
      ],
      "text/plain": [
       "       TeamId          TeamName       SubmissionDate  Score\n",
       "0     4458093    Adrian Brodzik  2020-02-26 22:37:11  0.047\n",
       "1     4457240       farmersrice  2020-02-26 22:39:26  0.853\n",
       "2     4457945  Youri Matiounine  2020-02-26 22:56:59  0.152\n",
       "3     4458093    Adrian Brodzik  2020-02-26 23:13:36  0.064\n",
       "4     4458373   Hasni Med Bilel  2020-02-26 23:21:34  0.905\n",
       "...       ...               ...                  ...    ...\n",
       "5347  4462028        DataKiller  2020-03-30 01:20:10  0.940\n",
       "5348  4590753      cthierfelder  2020-03-30 01:20:29  0.919\n",
       "5349  4525822       Office Club  2020-03-30 01:25:39  0.939\n",
       "5350  4597156              FISH  2020-03-30 01:49:59  0.939\n",
       "5351  4465100          Just4Fun  2020-03-30 02:11:05  0.943\n",
       "\n",
       "[5352 rows x 4 columns]"
      ]
     },
     "execution_count": 41,
     "metadata": {},
     "output_type": "execute_result"
    }
   ],
   "source": [
    "df"
   ]
  },
  {
   "cell_type": "code",
   "execution_count": 54,
   "metadata": {},
   "outputs": [
    {
     "data": {
      "image/png": "[encoded data removed]",
      "text/plain": [
       "<Figure size 432x288 with 1 Axes>"
      ]
     },
     "metadata": {
      "needs_background": "light"
     },
     "output_type": "display_data"
    }
   ],
   "source": [
    "df['Datetime'] = pd.to_datetime(df['SubmissionDate'], format=\"%Y-%m-%d %H:%M:%S\")\n",
    "plt.plot(df['Datetime'],df.index)\n",
    "plt.xticks(df['Datetime'][::500], rotation=20)\n",
    "plt.grid(True)"
   ]
  },
  {
   "cell_type": "markdown",
   "metadata": {},
   "source": [
    "### Read Data"
   ]
  },
  {
   "cell_type": "code",
   "execution_count": 3,
   "metadata": {},
   "outputs": [],
   "source": [
    "dfTrain =pd.read_csv('train.csv')\n",
    "dfTest =pd.read_csv('test.csv')"
   ]
  },
  {
   "cell_type": "code",
   "execution_count": 15,
   "metadata": {},
   "outputs": [],
   "source": [
    "window = 20\n",
    "RANDOM_SEED = 42\n",
    "batch_size = 128\n",
    "num_classes = 11\n",
    "epochs = 10 #12"
   ]
  },
  {
   "cell_type": "code",
   "execution_count": 5,
   "metadata": {},
   "outputs": [
    {
     "data": {
      "image/png": "[encoded data removed]",
      "text/plain": [
       "<Figure size 432x288 with 1 Axes>"
      ]
     },
     "metadata": {
      "needs_background": "light"
     },
     "output_type": "display_data"
    }
   ],
   "source": [
    "point =7229\n",
    "sns.lineplot(data=dfTrain.iloc[point-window:point+window].signal,hue=\"size\", size=\"size\",color='green')\n",
    "sns.lineplot(data=dfTrain.iloc[point-window:point+window].open_channels,hue=\"size\", size=\"size\",color='red')\n",
    "plt.grid(True)\n"
   ]
  },
  {
   "cell_type": "code",
   "execution_count": 6,
   "metadata": {},
   "outputs": [],
   "source": [
    "window = 20\n",
    "X = np.take(dfTrain['signal'].to_numpy(),[np.arange(i-window,i+window) for i in range(5000000-window+1)])\n",
    "y = dfTrain['open_channels'].to_numpy()"
   ]
  },
  {
   "cell_type": "code",
   "execution_count": 7,
   "metadata": {},
   "outputs": [
    {
     "data": {
      "text/plain": [
       "(1999981, 40)"
      ]
     },
     "execution_count": 7,
     "metadata": {},
     "output_type": "execute_result"
    }
   ],
   "source": [
    "X_test = np.take(dfTest['signal'].to_numpy(),[np.arange(i-window,i+window) for i in range(2000000-window+1)])\n",
    "X_test.shape"
   ]
  },
  {
   "cell_type": "code",
   "execution_count": 8,
   "metadata": {},
   "outputs": [],
   "source": [
    "train_idx, val_idx = train_test_split(np.arange(X.shape[0]), random_state = RANDOM_SEED, test_size = 0.2)\n",
    "\n",
    "X_train = X[train_idx] \n",
    "y_train = y[train_idx] \n",
    "X_valid = X[val_idx]\n",
    "y_valid = y[val_idx]"
   ]
  },
  {
   "cell_type": "code",
   "execution_count": 19,
   "metadata": {},
   "outputs": [],
   "source": [
    "model = Sequential()\n",
    "model.add(Dense(16, input_dim=40, activation='relu'))\n",
    "model.add(Dense(12, activation='relu'))\n",
    "model.add(Dense(12, activation='relu'))\n",
    "model.add(Dropout(0.5))\n",
    "model.add(Dense(num_classes, activation='softmax'))\n",
    "\n",
    "model.compile(loss='sparse_categorical_crossentropy', optimizer='adam', metrics=['accuracy'])"
   ]
  },
  {
   "cell_type": "code",
   "execution_count": 21,
   "metadata": {},
   "outputs": [
    {
     "name": "stdout",
     "output_type": "stream",
     "text": [
      "Train on 3999984 samples, validate on 999997 samples\n",
      "Epoch 1/5\n",
      "3999984/3999984 [==============================] - 31s 8us/step - loss: 1.1600 - accuracy: 0.5599 - val_loss: 1.0097 - val_accuracy: 0.6308\n",
      "Epoch 2/5\n",
      "3999984/3999984 [==============================] - 32s 8us/step - loss: 1.1583 - accuracy: 0.5609 - val_loss: 1.0128 - val_accuracy: 0.6275\n",
      "Epoch 3/5\n",
      "3999984/3999984 [==============================] - 31s 8us/step - loss: 1.1553 - accuracy: 0.5615 - val_loss: 1.0015 - val_accuracy: 0.6374\n",
      "Epoch 4/5\n",
      "3999984/3999984 [==============================] - 31s 8us/step - loss: 1.1486 - accuracy: 0.5658 - val_loss: 0.9965 - val_accuracy: 0.6380\n",
      "Epoch 5/5\n",
      "3999984/3999984 [==============================] - 31s 8us/step - loss: 1.1455 - accuracy: 0.5693 - val_loss: 0.9976 - val_accuracy: 0.6396\n"
     ]
    }
   ],
   "source": [
    "history = model.fit(X_train, y_train,\n",
    "          batch_size=batch_size,\n",
    "          epochs=epochs,\n",
    "          verbose=1,\n",
    "          validation_data=(X_valid, y_valid)\n",
    "                   )"
   ]
  },
  {
   "cell_type": "code",
   "execution_count": 25,
   "metadata": {},
   "outputs": [
    {
     "data": {
      "text/plain": [
       "0.4522811254098942"
      ]
     },
     "execution_count": 25,
     "metadata": {},
     "output_type": "execute_result"
    }
   ],
   "source": [
    "prediction = model.predict(X_valid)\n",
    "signalPrediction = prediction.argmax(axis=-1)\n",
    "f1_score(signalPrediction,y_valid,labels=range(11),average='macro')"
   ]
  },
  {
   "cell_type": "code",
   "execution_count": null,
   "metadata": {},
   "outputs": [],
   "source": [
    "#Dense(16,input40,relu),Dense(12,relu),Dropout(0.5,softmax),Dense(num_classes=11)                 f1_score valid 0.42277\n",
    "#Dense(16,input40,relu),Dense(12,relu),Dense(12,relu),Dropout(0.5,softmax),Dense(num_classes=11)  f1_score valid 0.45228"
   ]
  },
  {
   "cell_type": "code",
   "execution_count": 13,
   "metadata": {},
   "outputs": [],
   "source": [
    "prediction = model.predict(X_test)\n",
    "signalPrediction = prediction.argmax(axis=-1)\n",
    "signalPrediction=np.pad(signalPrediction, (0, window-1), 'constant', constant_values=(0,0))\n",
    "signalPrediction= signalPrediction.astype(int)"
   ]
  },
  {
   "cell_type": "code",
   "execution_count": 14,
   "metadata": {},
   "outputs": [],
   "source": [
    "time=np.linspace(5000001,7000000,2000000).astype(int).astype(str)\n",
    "for i in range(len(time)):\n",
    "    time[i]=time[i][:3]+'.'+time[i][3:]\n",
    "\n",
    "df=pd.DataFrame(data={'time':time,'open_channels':signalPrediction})\n",
    "df.to_csv('ion_CT_cnn01.csv', index=False)"
   ]
  },
  {
   "cell_type": "code",
   "execution_count": null,
   "metadata": {},
   "outputs": [],
   "source": []
  },
  {
   "cell_type": "code",
   "execution_count": null,
   "metadata": {},
   "outputs": [],
   "source": []
  }
 ],
 "metadata": {
  "kernelspec": {
   "display_name": "Python 3",
   "language": "python",
   "name": "python3"
  },
  "language_info": {
   "codemirror_mode": {
    "name": "ipython",
    "version": 3
   },
   "file_extension": ".py",
   "mimetype": "text/x-python",
   "name": "python",
   "nbconvert_exporter": "python",
   "pygments_lexer": "ipython3",
   "version": "3.7.4"
  }
 },
 "nbformat": 4,
 "nbformat_minor": 4
}
