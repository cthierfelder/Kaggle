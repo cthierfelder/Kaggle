{
 "cells": [
  {
   "cell_type": "code",
   "execution_count": 1,
   "metadata": {},
   "outputs": [
    {
     "name": "stderr",
     "output_type": "stream",
     "text": [
      "Using TensorFlow backend.\n"
     ]
    }
   ],
   "source": [
    "import matplotlib.pyplot as plt\n",
    "import numpy as np\n",
    "import pandas as pd\n",
    "from sklearn.model_selection import train_test_split\n",
    "\n",
    "from IPython.display import SVG\n",
    "import IPython.display as display\n",
    "\n",
    "import tensorflow as tf\n",
    "from keras.utils import to_categorical\n",
    "from keras.models import Sequential\n",
    "from keras.layers import Dense, Conv2D, Flatten\n",
    "from keras.utils import plot_model\n",
    "from keras.utils import model_to_dot"
   ]
  },
  {
   "cell_type": "code",
   "execution_count": 2,
   "metadata": {},
   "outputs": [],
   "source": [
    "#https://github.com/GoogleCloudPlatform/tensorflow-without-a-phd"
   ]
  },
  {
   "cell_type": "code",
   "execution_count": 3,
   "metadata": {},
   "outputs": [
    {
     "name": "stdout",
     "output_type": "stream",
     "text": [
      "(39900, 784) (2100, 784)\n"
     ]
    }
   ],
   "source": [
    "dfTrain = pd.read_csv('train.csv')\n",
    "dfTest  = pd.read_csv('test.csv')\n",
    "\n",
    "X     = dfTrain[dfTrain.columns[1:]].to_numpy().reshape(42000,28*28)\n",
    "y     = to_categorical(dfTrain[dfTrain.columns[0]].to_numpy())\n",
    "#y     = dfTrain[dfTrain.columns[0]].to_numpy()\n",
    "\n",
    "train_X, valid_X, train_y, valid_y = train_test_split(X,y,shuffle=False, random_state=1,train_size=0.95)\n",
    "test_X = dfTest.to_numpy().reshape(28000,28*28)\n",
    "\n",
    "print(train_X.shape,valid_X.shape)"
   ]
  },
  {
   "cell_type": "code",
   "execution_count": 71,
   "metadata": {},
   "outputs": [],
   "source": [
    "modelA = tf.keras.Sequential(\n",
    "  [\n",
    "    tf.keras.layers.Input(shape=(28*28,)),\n",
    "    tf.keras.layers.Dense(10, activation='softmax')\n",
    "  ])\n",
    "\n",
    "modelB = tf.keras.Sequential(\n",
    "  [\n",
    "    tf.keras.layers.Input(shape=(28*28,)),\n",
    "    tf.keras.layers.Dense(200, activation='sigmoid'),\n",
    "    tf.keras.layers.Dense(100, activation='sigmoid'),\n",
    "    tf.keras.layers.Dense(60, activation='sigmoid'),\n",
    "    tf.keras.layers.Dense(30, activation='sigmoid'),\n",
    "    tf.keras.layers.Dense(10, activation='softmax')\n",
    "  ])\n",
    "\n",
    "modelC = tf.keras.Sequential(\n",
    "  [\n",
    "    tf.keras.layers.Input(shape=(28*28,)),\n",
    "    tf.keras.layers.Dense(200, activation='relu'),\n",
    "    tf.keras.layers.Dense(100, activation='relu'),\n",
    "    tf.keras.layers.Dense(60, activation='relu'),\n",
    "    tf.keras.layers.Dense(30, activation='relu'),\n",
    "    tf.keras.layers.Dense(10, activation='softmax')\n",
    "  ])\n",
    "\n",
    "modelD = tf.keras.Sequential(\n",
    "  [\n",
    "    tf.keras.layers.Input(shape=(28*28,)),\n",
    "    tf.keras.layers.Dense(200, activation='relu'),\n",
    "    tf.keras.layers.Dropout(0.25),\n",
    "    tf.keras.layers.Dense(100, activation='relu'),\n",
    "    tf.keras.layers.Dropout(0.25),\n",
    "    tf.keras.layers.Dense(60, activation='relu'),\n",
    "    tf.keras.layers.Dropout(0.25),\n",
    "    tf.keras.layers.Dense(30, activation='relu'),\n",
    "    tf.keras.layers.Dropout(0.25),\n",
    "    tf.keras.layers.Dense(10, activation='softmax')\n",
    "  ])\n",
    "\n",
    "modelA.compile(optimizer='adam', loss='categorical_crossentropy', metrics=['accuracy'])\n",
    "modelB.compile(optimizer='adam', loss='categorical_crossentropy', metrics=['accuracy'])\n",
    "modelC.compile(optimizer='adam', loss='categorical_crossentropy', metrics=['accuracy'])\n",
    "modelD.compile(optimizer='adam', loss='categorical_crossentropy', metrics=['accuracy'])"
   ]
  },
  {
   "cell_type": "code",
   "execution_count": 72,
   "metadata": {},
   "outputs": [
    {
     "name": "stdout",
     "output_type": "stream",
     "text": [
      "Steps per epoch:  420\n",
      "Train on 31500 samples, validate on 10500 samples\n",
      "Epoch 1/30\n",
      "31500/31500 [==============================] - 1s 32us/sample - loss: 4.5524 - accuracy: 0.1940 - val_loss: 0.0135 - val_accuracy: 0.3600\n",
      "Epoch 2/30\n",
      "31500/31500 [==============================] - 1s 21us/sample - loss: 1.8073 - accuracy: 0.3734 - val_loss: 0.0095 - val_accuracy: 0.5733\n",
      "Epoch 3/30\n",
      "31500/31500 [==============================] - 1s 20us/sample - loss: 1.4215 - accuracy: 0.5183 - val_loss: 0.0069 - val_accuracy: 0.7333\n",
      "Epoch 4/30\n",
      "31500/31500 [==============================] - 1s 21us/sample - loss: 1.0636 - accuracy: 0.6638 - val_loss: 0.0035 - val_accuracy: 0.8400\n",
      "Epoch 5/30\n",
      "31500/31500 [==============================] - 1s 20us/sample - loss: 0.7665 - accuracy: 0.7745 - val_loss: 0.0022 - val_accuracy: 0.9067\n",
      "Epoch 6/30\n",
      "31500/31500 [==============================] - 1s 20us/sample - loss: 0.6236 - accuracy: 0.8224 - val_loss: 0.0019 - val_accuracy: 0.9467\n",
      "Epoch 7/30\n",
      "31500/31500 [==============================] - 1s 20us/sample - loss: 0.5315 - accuracy: 0.8544 - val_loss: 0.0022 - val_accuracy: 0.9200\n",
      "Epoch 8/30\n",
      "31500/31500 [==============================] - 1s 20us/sample - loss: 0.4643 - accuracy: 0.8730 - val_loss: 0.0019 - val_accuracy: 0.9333\n",
      "Epoch 9/30\n",
      "31500/31500 [==============================] - 1s 20us/sample - loss: 0.4155 - accuracy: 0.8899 - val_loss: 0.0019 - val_accuracy: 0.9333\n",
      "Epoch 10/30\n",
      "31500/31500 [==============================] - 1s 20us/sample - loss: 0.3724 - accuracy: 0.9023 - val_loss: 0.0016 - val_accuracy: 0.9600\n",
      "Epoch 11/30\n",
      "31500/31500 [==============================] - 1s 20us/sample - loss: 0.3330 - accuracy: 0.9107 - val_loss: 0.0013 - val_accuracy: 0.9733\n",
      "Epoch 12/30\n",
      "31500/31500 [==============================] - 1s 20us/sample - loss: 0.3141 - accuracy: 0.9177 - val_loss: 0.0014 - val_accuracy: 0.9600\n",
      "Epoch 13/30\n",
      "31500/31500 [==============================] - 1s 20us/sample - loss: 0.2860 - accuracy: 0.9238 - val_loss: 7.3658e-04 - val_accuracy: 0.9733\n",
      "Epoch 14/30\n",
      "31500/31500 [==============================] - 1s 20us/sample - loss: 0.2682 - accuracy: 0.9291 - val_loss: 0.0016 - val_accuracy: 0.9600\n",
      "Epoch 15/30\n",
      "31500/31500 [==============================] - 1s 20us/sample - loss: 0.2491 - accuracy: 0.9343 - val_loss: 8.6183e-04 - val_accuracy: 0.9733\n",
      "Epoch 16/30\n",
      "31500/31500 [==============================] - 1s 20us/sample - loss: 0.2539 - accuracy: 0.9351 - val_loss: 0.0011 - val_accuracy: 0.9867\n",
      "Epoch 17/30\n",
      "31500/31500 [==============================] - 1s 20us/sample - loss: 0.2337 - accuracy: 0.9388 - val_loss: 7.4664e-04 - val_accuracy: 0.9733\n",
      "Epoch 18/30\n",
      "31500/31500 [==============================] - 1s 20us/sample - loss: 0.2165 - accuracy: 0.9424 - val_loss: 7.3629e-04 - val_accuracy: 0.9867\n",
      "Epoch 19/30\n",
      "31500/31500 [==============================] - 1s 20us/sample - loss: 0.2130 - accuracy: 0.9462 - val_loss: 8.0451e-04 - val_accuracy: 0.9867\n",
      "Epoch 20/30\n",
      "31500/31500 [==============================] - 1s 20us/sample - loss: 0.2109 - accuracy: 0.9457 - val_loss: 0.0010 - val_accuracy: 0.9867\n",
      "Epoch 21/30\n",
      "31500/31500 [==============================] - 1s 20us/sample - loss: 0.1960 - accuracy: 0.9496 - val_loss: 0.0013 - val_accuracy: 0.9733\n",
      "Epoch 22/30\n",
      "31500/31500 [==============================] - 1s 20us/sample - loss: 0.1871 - accuracy: 0.9514 - val_loss: 6.7258e-04 - val_accuracy: 0.9733\n",
      "Epoch 23/30\n",
      "31500/31500 [==============================] - 1s 20us/sample - loss: 0.1785 - accuracy: 0.9546 - val_loss: 9.6296e-04 - val_accuracy: 0.9867\n",
      "Epoch 24/30\n",
      "31500/31500 [==============================] - 1s 20us/sample - loss: 0.1764 - accuracy: 0.9547 - val_loss: 8.6923e-04 - val_accuracy: 0.9733\n",
      "Epoch 25/30\n",
      "31500/31500 [==============================] - 1s 20us/sample - loss: 0.1641 - accuracy: 0.9588 - val_loss: 0.0012 - val_accuracy: 0.9867\n",
      "Epoch 26/30\n",
      "31500/31500 [==============================] - 1s 20us/sample - loss: 0.1711 - accuracy: 0.9582 - val_loss: 7.5815e-04 - val_accuracy: 0.9733\n",
      "Epoch 27/30\n",
      "31500/31500 [==============================] - 1s 20us/sample - loss: 0.1583 - accuracy: 0.9589 - val_loss: 0.0013 - val_accuracy: 0.9867\n",
      "Epoch 28/30\n",
      "31500/31500 [==============================] - 1s 19us/sample - loss: 0.1557 - accuracy: 0.9598 - val_loss: 8.8256e-04 - val_accuracy: 0.9733\n",
      "Epoch 29/30\n",
      "31500/31500 [==============================] - 1s 20us/sample - loss: 0.1472 - accuracy: 0.9625 - val_loss: 4.4365e-04 - val_accuracy: 0.9867\n",
      "Epoch 30/30\n",
      "31500/31500 [==============================] - 1s 20us/sample - loss: 0.1390 - accuracy: 0.9643 - val_loss: 0.0011 - val_accuracy: 0.9867\n"
     ]
    }
   ],
   "source": [
    "BATCH_SIZE = 100\n",
    "EPOCHS = 30\n",
    "\n",
    "steps_per_epoch = 42000//BATCH_SIZE  # 60,000 items in this dataset\n",
    "print(\"Steps per epoch: \", steps_per_epoch)\n",
    "historyA = modelA.fit(train_X, train_y, \n",
    "                    steps_per_epoch=steps_per_epoch, \n",
    "                    epochs=EPOCHS,\n",
    "                    validation_data=(valid_X, valid_y), \n",
    "                    validation_steps=1)\n",
    "\n",
    "historyB = modelB.fit(train_X, train_y, \n",
    "                    steps_per_epoch=steps_per_epoch, \n",
    "                    epochs=EPOCHS,\n",
    "                    validation_data=(valid_X, valid_y), \n",
    "                    validation_steps=1)\n",
    "\n",
    "historyC = modelC.fit(train_X, train_y, \n",
    "                    steps_per_epoch=steps_per_epoch, \n",
    "                    epochs=EPOCHS,\n",
    "                    validation_data=(valid_X, valid_y), \n",
    "                    validation_steps=1)\n",
    "\n",
    "historyD = modelD.fit(train_X, train_y, \n",
    "                    steps_per_epoch=steps_per_epoch, \n",
    "                    epochs=EPOCHS,\n",
    "                    validation_data=(valid_X, valid_y), \n",
    "                    validation_steps=1)"
   ]
  },
  {
   "cell_type": "code",
   "execution_count": 80,
   "metadata": {},
   "outputs": [
    {
     "data": {
      "image/png": "[encoded data removed]",
      "text/plain": [
       "<Figure size 432x288 with 1 Axes>"
      ]
     },
     "metadata": {
      "needs_background": "light"
     },
     "output_type": "display_data"
    },
    {
     "data": {
      "image/png": "[encoded data removed]",
      "text/plain": [
       "<Figure size 432x288 with 1 Axes>"
      ]
     },
     "metadata": {
      "needs_background": "light"
     },
     "output_type": "display_data"
    }
   ],
   "source": [
    "plt.plot(historyA.history['accuracy'],    color='red', linestyle='-')\n",
    "plt.plot(historyA.history['val_accuracy'],color='blue',linestyle='-')\n",
    "plt.plot(historyB.history['accuracy'],    color='red', linestyle='-.')\n",
    "plt.plot(historyB.history['val_accuracy'],color='blue',linestyle='-.')\n",
    "plt.plot(historyC.history['accuracy'],    color='red', linestyle='--')\n",
    "plt.plot(historyC.history['val_accuracy'],color='blue',linestyle='--')\n",
    "plt.plot(historyD.history['accuracy'],    color='red', linestyle=':')\n",
    "plt.plot(historyD.history['val_accuracy'],color='blue',linestyle=':')\n",
    "plt.grid(True)\n",
    "plt.title('Model accuracy')\n",
    "plt.ylabel('Accuracy')\n",
    "plt.xlabel('Epoch')\n",
    "plt.legend(['Train', 'Test'], loc='upper left')\n",
    "plt.ylim(0.75,1.0)\n",
    "plt.show()\n",
    "\n",
    "# Plot training & validation loss values\n",
    "plt.semilogy(historyA.history['loss'],    color='red', linestyle='-')\n",
    "plt.semilogy(historyA.history['val_loss'],color='blue',linestyle='-')\n",
    "plt.semilogy(historyB.history['loss'],    color='red', linestyle='-.')\n",
    "plt.semilogy(historyB.history['val_loss'],color='blue',linestyle='-.')\n",
    "plt.semilogy(historyC.history['loss'],    color='red', linestyle='--')\n",
    "plt.semilogy(historyC.history['val_loss'],color='blue',linestyle='--')\n",
    "plt.semilogy(historyD.history['loss'],    color='red', linestyle=':')\n",
    "plt.semilogy(historyD.history['val_loss'],color='blue',linestyle=':')\n",
    "plt.grid(True)\n",
    "plt.title('Model loss')\n",
    "plt.ylabel('Loss')\n",
    "plt.xlabel('Epoch')\n",
    "plt.legend(['Train', 'Test'], loc='upper left')\n",
    "plt.show()"
   ]
  },
  {
   "cell_type": "code",
   "execution_count": 169,
   "metadata": {},
   "outputs": [],
   "source": [
    "BATCH_SIZE = 100\n",
    "EPOCHS = 10\n",
    "\n",
    "steps_per_epoch = 42000//BATCH_SIZE\n",
    "\n",
    "modelE = tf.keras.Sequential(\n",
    "  [\n",
    "    tf.keras.layers.Reshape(input_shape=(28*28,), target_shape=(28,28,1)),\n",
    "    tf.keras.layers.Conv2D(kernel_size=6, filters=6,  strides=1, padding='same', activation='relu'),\n",
    "    tf.keras.layers.Conv2D(kernel_size=5, filters=12, strides=2, padding='same', activation='relu'),\n",
    "    tf.keras.layers.Conv2D(kernel_size=4, filters=24, strides=2, padding='same', activation='relu'),\n",
    "    tf.keras.layers.Flatten(),\n",
    "    tf.keras.layers.Dropout(0.25),\n",
    "    tf.keras.layers.Dense(256, activation='relu'),\n",
    "    tf.keras.layers.Dense(10, activation='softmax')\n",
    "  ])\n",
    "\n",
    "modelF = tf.keras.Sequential(\n",
    "  [\n",
    "    tf.keras.layers.Reshape(input_shape=(28*28,), target_shape=(28,28,1)),\n",
    "    tf.keras.layers.Conv2D(kernel_size=5, filters=24, padding='same', activation='relu'),\n",
    "    tf.keras.layers.MaxPool2D(),\n",
    "    tf.keras.layers.Conv2D(kernel_size=5, filters=48, padding='same', activation='relu'),\n",
    "    tf.keras.layers.MaxPool2D(),\n",
    "    tf.keras.layers.Conv2D(kernel_size=5, filters=64, padding='same', activation='relu'),\n",
    "    tf.keras.layers.MaxPool2D(padding='same'),\n",
    "    tf.keras.layers.Flatten(),\n",
    "    tf.keras.layers.Dense(256, activation='relu'),\n",
    "    tf.keras.layers.Dense(10, activation='softmax')\n",
    "  ])\n",
    "\n",
    "modelE.compile(optimizer='adam', loss='categorical_crossentropy', metrics=['accuracy'])\n",
    "modelF.compile(optimizer='adam', loss='categorical_crossentropy', metrics=['accuracy'])"
   ]
  },
  {
   "cell_type": "code",
   "execution_count": 170,
   "metadata": {},
   "outputs": [
    {
     "name": "stdout",
     "output_type": "stream",
     "text": [
      "Train on 39900 samples, validate on 2100 samples\n",
      "Epoch 1/10\n",
      "39900/39900 [==============================] - 21s 516us/sample - loss: 0.2050 - accuracy: 0.9355 - val_loss: 0.0090 - val_accuracy: 0.9579\n",
      "Epoch 2/10\n",
      "39900/39900 [==============================] - 20s 497us/sample - loss: 0.0486 - accuracy: 0.9842 - val_loss: 0.0015 - val_accuracy: 0.9895\n",
      "Epoch 3/10\n",
      "39900/39900 [==============================] - 20s 495us/sample - loss: 0.0342 - accuracy: 0.9889 - val_loss: 0.0020 - val_accuracy: 0.9789\n",
      "Epoch 4/10\n",
      "39900/39900 [==============================] - 20s 498us/sample - loss: 0.0259 - accuracy: 0.9914 - val_loss: 0.0037 - val_accuracy: 0.9684\n",
      "Epoch 5/10\n",
      "39900/39900 [==============================] - 20s 494us/sample - loss: 0.0186 - accuracy: 0.9943 - val_loss: 0.0063 - val_accuracy: 0.9684\n",
      "Epoch 6/10\n",
      "39900/39900 [==============================] - 20s 495us/sample - loss: 0.0156 - accuracy: 0.9954 - val_loss: 0.0018 - val_accuracy: 0.9789\n",
      "Epoch 7/10\n",
      "39900/39900 [==============================] - 20s 510us/sample - loss: 0.0129 - accuracy: 0.9956 - val_loss: 5.8031e-05 - val_accuracy: 1.0000\n",
      "Epoch 8/10\n",
      "39900/39900 [==============================] - 22s 546us/sample - loss: 0.0128 - accuracy: 0.9953 - val_loss: 0.0020 - val_accuracy: 0.9895\n",
      "Epoch 9/10\n",
      "39900/39900 [==============================] - 22s 549us/sample - loss: 0.0111 - accuracy: 0.9960 - val_loss: 0.0040 - val_accuracy: 0.9684\n",
      "Epoch 10/10\n",
      "39900/39900 [==============================] - 22s 551us/sample - loss: 0.0079 - accuracy: 0.9973 - val_loss: 0.0015 - val_accuracy: 0.9895\n"
     ]
    }
   ],
   "source": [
    "historyF = modelF.fit(train_X, train_y, \n",
    "                    steps_per_epoch=steps_per_epoch, \n",
    "                    epochs=EPOCHS,\n",
    "                    validation_data=(valid_X, valid_y), \n",
    "                    validation_steps=1)"
   ]
  },
  {
   "cell_type": "code",
   "execution_count": 140,
   "metadata": {},
   "outputs": [
    {
     "data": {
      "image/png": "[encoded data removed]",
      "text/plain": [
       "<Figure size 432x288 with 1 Axes>"
      ]
     },
     "metadata": {
      "needs_background": "light"
     },
     "output_type": "display_data"
    },
    {
     "data": {
      "image/png": "[encoded data removed]",
      "text/plain": [
       "<Figure size 432x288 with 1 Axes>"
      ]
     },
     "metadata": {
      "needs_background": "light"
     },
     "output_type": "display_data"
    }
   ],
   "source": [
    "plt.plot(historyE.history['accuracy'],    color='red', linestyle='-')\n",
    "plt.plot(historyE.history['val_accuracy'],color='blue',linestyle='-')\n",
    "plt.grid(True)\n",
    "plt.title('Model accuracy')\n",
    "plt.ylabel('Accuracy')\n",
    "plt.xlabel('Epoch')\n",
    "plt.legend(['Train', 'Test'], loc='upper left')\n",
    "plt.ylim(0.75,1.0)\n",
    "plt.show()\n",
    "\n",
    "# Plot training & validation loss values\n",
    "plt.semilogy(historyE.history['loss'],    color='red', linestyle='-')\n",
    "plt.semilogy(historyE.history['val_loss'],color='blue',linestyle='-')\n",
    "plt.grid(True)\n",
    "plt.title('Model loss')\n",
    "plt.ylabel('Loss')\n",
    "plt.xlabel('Epoch')\n",
    "plt.legend(['Train', 'Test'], loc='upper left')\n",
    "plt.show()"
   ]
  },
  {
   "cell_type": "code",
   "execution_count": 171,
   "metadata": {},
   "outputs": [],
   "source": [
    "output     = modelF.predict(test_X)\n",
    "prediction = np.argmax(output,axis=1)"
   ]
  },
  {
   "cell_type": "code",
   "execution_count": 172,
   "metadata": {},
   "outputs": [],
   "source": [
    "dfOut = pd.DataFrame(data={'ImageId':np.arange(1,28001,1),'Label':prediction})\n",
    "dfOut.to_csv('submission.csv', index=False)"
   ]
  },
  {
   "cell_type": "code",
   "execution_count": null,
   "metadata": {},
   "outputs": [],
   "source": []
  },
  {
   "cell_type": "code",
   "execution_count": null,
   "metadata": {},
   "outputs": [],
   "source": []
  },
  {
   "cell_type": "markdown",
   "metadata": {},
   "source": [
    "### resnet plus dataSetEnhancement"
   ]
  },
  {
   "cell_type": "code",
   "execution_count": 4,
   "metadata": {},
   "outputs": [
    {
     "name": "stdout",
     "output_type": "stream",
     "text": [
      "Epoch 1/10\n",
      "296/296 [==============================] - 199s 671ms/step - loss: 0.2423 - accuracy: 0.9265 - val_loss: 17.8663 - val_accuracy: 0.0986\n",
      "Epoch 2/10\n",
      "296/296 [==============================] - 198s 671ms/step - loss: 0.0761 - accuracy: 0.9783 - val_loss: 0.0647 - val_accuracy: 0.9807\n",
      "Epoch 3/10\n",
      "296/296 [==============================] - 201s 680ms/step - loss: 0.0480 - accuracy: 0.9857 - val_loss: 0.0705 - val_accuracy: 0.9793\n",
      "Epoch 4/10\n",
      "296/296 [==============================] - 203s 686ms/step - loss: 0.0420 - accuracy: 0.9872 - val_loss: 0.0855 - val_accuracy: 0.9774\n",
      "Epoch 5/10\n",
      "296/296 [==============================] - 206s 694ms/step - loss: 0.0348 - accuracy: 0.9895 - val_loss: 0.0427 - val_accuracy: 0.9886\n",
      "Epoch 6/10\n",
      "296/296 [==============================] - 205s 694ms/step - loss: 0.0286 - accuracy: 0.9912 - val_loss: 0.0426 - val_accuracy: 0.9876\n",
      "Epoch 7/10\n",
      "296/296 [==============================] - 205s 691ms/step - loss: 0.0235 - accuracy: 0.9928 - val_loss: 0.0272 - val_accuracy: 0.9936\n",
      "Epoch 8/10\n",
      "296/296 [==============================] - 208s 703ms/step - loss: 0.0210 - accuracy: 0.9937 - val_loss: 0.0287 - val_accuracy: 0.9902\n",
      "Epoch 9/10\n",
      "296/296 [==============================] - 205s 691ms/step - loss: 0.0208 - accuracy: 0.9941 - val_loss: 0.0256 - val_accuracy: 0.9933\n",
      "Epoch 10/10\n",
      "296/296 [==============================] - 204s 688ms/step - loss: 0.0140 - accuracy: 0.9956 - val_loss: 0.0289 - val_accuracy: 0.9919\n"
     ]
    }
   ],
   "source": [
    "from keras.models import Model\n",
    "from keras.layers import Input, Conv2D, BatchNormalization, Activation\n",
    "from keras.layers import Add, Flatten, AveragePooling2D, Dense, Dropout\n",
    "from keras.callbacks import ModelCheckpoint, LearningRateScheduler\n",
    "from keras.preprocessing.image import ImageDataGenerator\n",
    "from keras.utils import plot_model\n",
    "import time\n",
    "\n",
    "\n",
    "def residual_block(inputs, filters, strides=1):\n",
    "    \"\"\"Residual block\n",
    "    \n",
    "    Shortcut after Conv2D -> ReLU -> BatchNorm -> Conv2D\n",
    "    \n",
    "    Arguments:\n",
    "        inputs (tensor): input\n",
    "        filters (int): Conv2D number of filterns\n",
    "        strides (int): Conv2D square stride dimensions\n",
    "\n",
    "    Returns:\n",
    "        x (tensor): input Tensor for the next layer\n",
    "    \"\"\"\n",
    "    y = inputs # Shortcut path\n",
    "    \n",
    "    # Main path\n",
    "    x = Conv2D(\n",
    "        filters=filters,\n",
    "        kernel_size=3,\n",
    "        strides=strides,\n",
    "        padding='same',\n",
    "    )(inputs)\n",
    "    x = BatchNormalization()(x)\n",
    "    x = Activation('relu')(x)\n",
    "    \n",
    "    x = Conv2D(\n",
    "        filters=filters,\n",
    "        kernel_size=3,\n",
    "        strides=1,\n",
    "        padding='same',\n",
    "    )(x)\n",
    "    x = BatchNormalization()(x)\n",
    "    \n",
    "    # Fit shortcut path dimenstions\n",
    "    if strides > 1:\n",
    "        y = Conv2D(\n",
    "        filters=filters,\n",
    "        kernel_size=3,\n",
    "        strides=strides,\n",
    "        padding='same',\n",
    "        )(y)\n",
    "        y = BatchNormalization()(y)\n",
    "    \n",
    "    # Concatenate paths\n",
    "    x = Add()([x, y])\n",
    "    x = Activation('relu')(x)\n",
    "    \n",
    "    return x\n",
    "    \n",
    "    \n",
    "def resnet(input_shape, num_classes, filters, stages):\n",
    "    \"\"\"ResNet \n",
    "    \n",
    "    At the beginning of each stage downsample feature map size \n",
    "    by a convolutional layer with strides=2, and double the number of filters.\n",
    "    The kernel size is the same for each residual block.\n",
    "    \n",
    "    Arguments:\n",
    "        input_shape (3D tuple): shape of input Tensor\n",
    "        filters (int): Conv2D number of filterns\n",
    "        stages (1D list): list of number of resiual block in each stage eg. [2, 5, 5, 2]\n",
    "    \n",
    "    Returns:\n",
    "        model (Model): Keras model\n",
    "    \"\"\"\n",
    "    # Start model definition\n",
    "    inputs = Input(shape=input_shape)\n",
    "    x = Conv2D(\n",
    "        filters=filters,\n",
    "        kernel_size=7,\n",
    "        strides=1,\n",
    "        padding='same',\n",
    "    )(inputs)\n",
    "    x = BatchNormalization()(x)\n",
    "    x = Activation('relu')(x)\n",
    "    \n",
    "    # Stack residual blocks\n",
    "    for stage in stages:\n",
    "        x = residual_block(x, filters, strides=2)\n",
    "        for i in range(stage-1):\n",
    "            x = residual_block(x, filters)\n",
    "        filters *= 2\n",
    "        \n",
    "    # Pool -> Flatten -> Classify\n",
    "    x = AveragePooling2D(4)(x)\n",
    "    x = Flatten()(x)\n",
    "    x = Dropout(0.3)(x)\n",
    "    x = Dense(int(filters/4), activation='relu')(x)\n",
    "    outputs = Dense(num_classes, activation='softmax')(x)\n",
    "    \n",
    "    # Instantiate model\n",
    "    model = Model(inputs=inputs, outputs=outputs)\n",
    "    return model \n",
    "\n",
    "\n",
    "# Reshape and normalize\n",
    "X = dfTrain.drop(columns=['label']).values.reshape(-1, 28, 28, 1) / 255\n",
    "y = dfTrain['label'].values\n",
    "\n",
    "test = dfTest.values.reshape(-1, 28, 28, 1) / 255\n",
    "\n",
    "# Get training and testing datasets\n",
    "X_train, X_valid, y_train, y_valid = train_test_split(X, y, test_size=0.1)\n",
    "\n",
    "epochs=10\n",
    "filters=64\n",
    "stages=[3, 3, 3]\n",
    "batch_size=128\n",
    "\n",
    "model = resnet(\n",
    "    input_shape=X[0].shape,\n",
    "    num_classes=np.unique(y).shape[-1],\n",
    "    filters=filters, \n",
    "    stages=stages)\n",
    "\n",
    "model.compile(\n",
    "    loss='sparse_categorical_crossentropy',\n",
    "    optimizer='adam',\n",
    "    metrics=['accuracy'])\n",
    "\n",
    "# Define callbacks\n",
    "checkpoint = ModelCheckpoint(\n",
    "    filepath=f'resnet-{int(time.time())}.dhf5',\n",
    "    monitor='loss',\n",
    "    save_best_only=True\n",
    ")\n",
    "\n",
    "annealer = LearningRateScheduler(lambda x: 1e-3 * 0.8**x)\n",
    "\n",
    "callbacks = [checkpoint, annealer]\n",
    "\n",
    "# Define data generator\n",
    "datagen = ImageDataGenerator(  \n",
    "    rotation_range=10,  \n",
    "    zoom_range=0.1, \n",
    "    width_shift_range=0.1, \n",
    "    height_shift_range=0.1\n",
    ")\n",
    "datagen.fit(X)\n",
    "\n",
    "history = model.fit(\n",
    "    datagen.flow(X_train, y_train, batch_size=batch_size),\n",
    "    validation_data=(X_valid, y_valid),\n",
    "    epochs=epochs, \n",
    "    verbose=1,\n",
    "    callbacks=callbacks)"
   ]
  },
  {
   "cell_type": "code",
   "execution_count": null,
   "metadata": {},
   "outputs": [],
   "source": [
    "output     = model.predict(test_X)\n",
    "prediction = np.argmax(output,axis=1)\n",
    "dfOut = pd.DataFrame(data={'ImageId':np.arange(1,28001,1),'Label':prediction})\n",
    "dfOut.to_csv('submission.csv', index=False)"
   ]
  }
 ],
 "metadata": {
  "kernelspec": {
   "display_name": "Python 3",
   "language": "python",
   "name": "python3"
  },
  "language_info": {
   "codemirror_mode": {
    "name": "ipython",
    "version": 3
   },
   "file_extension": ".py",
   "mimetype": "text/x-python",
   "name": "python",
   "nbconvert_exporter": "python",
   "pygments_lexer": "ipython3",
   "version": "3.7.4"
  }
 },
 "nbformat": 4,
 "nbformat_minor": 4
}
